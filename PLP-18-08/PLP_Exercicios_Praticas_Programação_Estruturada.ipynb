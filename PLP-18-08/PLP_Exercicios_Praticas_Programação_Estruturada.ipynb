{
  "nbformat": 4,
  "nbformat_minor": 0,
  "metadata": {
    "colab": {
      "provenance": []
    },
    "kernelspec": {
      "name": "python3",
      "display_name": "Python 3"
    },
    "language_info": {
      "name": "python"
    }
  },
  "cells": [
    {
      "cell_type": "code",
      "execution_count": null,
      "metadata": {
        "id": "VssM3FWIapaW"
      },
      "outputs": [],
      "source": [
        "#Programa 01 - Linguagem Python\n",
        "#Autor: Antonio Lopes de Souza Neto - Data: 18/08/23 - Linguagem: Python."
      ]
    },
    {
      "cell_type": "markdown",
      "source": [
        "Descrição Narrativa: Faça um programa que leia duas notas e calcule sua média,\n",
        "levando em consideração que para ser aprovado o aluno tem que ter média >= 7."
      ],
      "metadata": {
        "id": "6Ucomcrtbonw"
      }
    },
    {
      "cell_type": "code",
      "source": [
        "#Leitura dos dados de entrada\n",
        "n1 = (float(input('Digite o valor da primeira nota: ')))\n",
        "n2 = (float(input('Digite o valor da segunda nota: ')))\n",
        "\n",
        "# Calcular a media das notas.\n",
        "media = (n1 + n2) / 2\n",
        "\n",
        "# Estrutura de decisão com IF para verificar se o aluno foi aprovado ou reprovado\n",
        "if(media >= 7):\n",
        "  rep = \"Aprovado\"\n",
        "else:\n",
        "  rep = \"Reprovado\"\n",
        "\n",
        "# Escreva os resultados obtidos:\n",
        "print(\"O valor da média é: \")\n",
        "print(media)\n",
        "print(\"O conceito do aluno foi: \")\n",
        "print(rep)"
      ],
      "metadata": {
        "colab": {
          "base_uri": "https://localhost:8080/"
        },
        "id": "vRcUpqqPcDaO",
        "outputId": "0d58eca3-fad9-489d-f953-0acb011d9a08"
      },
      "execution_count": null,
      "outputs": [
        {
          "output_type": "stream",
          "name": "stdout",
          "text": [
            "Digite o valor da nota: 7.0\n",
            "Digite o valor da nota: 7.0\n",
            "O valor da média é: \n",
            "7.0\n",
            "O conceito do aluno foi: \n",
            "Aprovado\n"
          ]
        }
      ]
    },
    {
      "cell_type": "code",
      "source": [
        "# Modularizando o Programa em questão"
      ],
      "metadata": {
        "id": "xf5Ueh0rj0m6"
      },
      "execution_count": null,
      "outputs": []
    },
    {
      "cell_type": "code",
      "source": [
        "#Criando o método para ler a nota.\n",
        "def lerNota():\n",
        "  nota = (float(input('Digite o valor da nota: ')))\n",
        "  return nota"
      ],
      "metadata": {
        "id": "d2urfWEkj5Qp"
      },
      "execution_count": null,
      "outputs": []
    },
    {
      "cell_type": "code",
      "source": [
        "#Criando o método para calular a média.\n",
        "def calculaMedia(n1,n2):\n",
        "  return (n1 + n2) / 2\n"
      ],
      "metadata": {
        "id": "zFfP5U5KkDaY"
      },
      "execution_count": null,
      "outputs": []
    },
    {
      "cell_type": "code",
      "source": [
        "#Verificar a situação do aluno.\n",
        "def verificarSituacao(media):\n",
        "  if(media >= 7):\n",
        "    return \"Aprovado\"\n",
        "  else:\n",
        "    return \"Reprovado\""
      ],
      "metadata": {
        "id": "K7htlCbNkihE"
      },
      "execution_count": null,
      "outputs": []
    },
    {
      "cell_type": "code",
      "source": [
        "#Leitura dos dados de entrada\n",
        "n1 = lerNota()\n",
        "n2 = lerNota()\n",
        "\n",
        "# Calcular a media das notas.\n",
        "media = calculaMedia(n1, n2)\n",
        "\n",
        "# Estrutura de decisão com IF para verificar se o aluno foi aprovado ou reprovado\n",
        "resp = verificarSituacao(media)\n",
        "\n",
        "# Escreva os resultados obtidos:\n",
        "print(\"O valor da média é: \", media)\n",
        "print(\"O conceito do aluno foi: \", resp)\n"
      ],
      "metadata": {
        "colab": {
          "base_uri": "https://localhost:8080/"
        },
        "id": "6xBv-SS7lVux",
        "outputId": "02e7e11c-1d67-45bd-ef33-8c56484cc622"
      },
      "execution_count": null,
      "outputs": [
        {
          "output_type": "stream",
          "name": "stdout",
          "text": [
            "Digite o valor da nota: 7.0\n",
            "Digite o valor da nota: 7.0\n",
            "O valor da média é:  7.0\n",
            "O conceito do aluno foi:  Aprovado\n"
          ]
        }
      ]
    },
    {
      "cell_type": "markdown",
      "source": [
        "Elabore um programa que receba o valor de uma mercadoria e o percentual de desonto e mostre o valor normal, o percentual de desconto, o valor do desconto e o preço com desconto\n"
      ],
      "metadata": {
        "id": "qpy9w0QltFQG"
      }
    },
    {
      "cell_type": "code",
      "source": [
        "#Ler o preço inicial\n",
        "def lerPreco():\n",
        "    preco = float(input('Digite o preço da mercadoria: '))\n",
        "    return preco"
      ],
      "metadata": {
        "id": "dLNjSw4At-sG"
      },
      "execution_count": null,
      "outputs": []
    },
    {
      "cell_type": "code",
      "source": [
        "#Ler o percentual de desconto\n",
        "def lerPercentual():\n",
        "    desconto = float(input('Digite o percentual de desconto: '))\n",
        "    return desconto"
      ],
      "metadata": {
        "id": "wpl3RyfluFpW"
      },
      "execution_count": null,
      "outputs": []
    },
    {
      "cell_type": "code",
      "source": [
        "#Calcula o valor do desconto\n",
        "def calculaDesconto(preco, percentual):\n",
        "    return preco * percentual / 100"
      ],
      "metadata": {
        "id": "e8qn0Y5juT2f"
      },
      "execution_count": null,
      "outputs": []
    },
    {
      "cell_type": "code",
      "source": [
        "#Calcula o preço com desconto\n",
        "def calculaPrecoComDesconto(preco, desconto):\n",
        "    return preco - desconto"
      ],
      "metadata": {
        "id": "3QUffHRoug9u"
      },
      "execution_count": null,
      "outputs": []
    },
    {
      "cell_type": "code",
      "source": [
        "#Lendo o preço\n",
        "preco = lerPreco()\n",
        "#Lendo o percentual\n",
        "percentual = lerPercentual()\n",
        "#Calculando o desconto\n",
        "desconto = calculaDesconto(preco, percentual)\n",
        "#Calculando o preço com desconto\n",
        "precoComDesconto = calculaPrecoComDesconto(preco, desconto)\n",
        "\n",
        "print(\"Um desconto de %5.2f %% em uma mercadoria de R$ %7.2f\" % (percentual, preco))\n",
        "print(\"Vale R$ %7.2f.\" % desconto)\n",
        "print(\"O valor a pagar é de R$ %7.2f\" % precoComDesconto)\n"
      ],
      "metadata": {
        "colab": {
          "base_uri": "https://localhost:8080/"
        },
        "id": "ZQzFmZ0punfv",
        "outputId": "657763ff-91c4-4a8e-effa-45ea54145cc4"
      },
      "execution_count": null,
      "outputs": [
        {
          "output_type": "stream",
          "name": "stdout",
          "text": [
            "Digite o preço da mercadoria: 10\n",
            "Digite o percentual de desconto: 10\n",
            "Um desconto de 10.00 % em uma mercadoria de R$   10.00\n",
            "Vale R$    1.00.\n",
            "O valor a pagar é de R$    9.00\n"
          ]
        }
      ]
    },
    {
      "cell_type": "markdown",
      "source": [
        "Escreva um programa para calcular a redução do tempo de vida de um fumante. Pergunte a quantidade de cigaros fumados por dia e quantos anos ele já fumou.\n",
        "Considere que um fumante perde 10 munutos de vida a cada cigarro, e calcule quantos dias de vida um fumante perderá. Exiba o total em dias.\n",
        "\n",
        "Resposta:"
      ],
      "metadata": {
        "id": "R2qvrGPOvILQ"
      }
    },
    {
      "cell_type": "code",
      "source": [
        "#Lendo a quantidade de cigarros por dia\n",
        "def cigarrosDia():\n",
        "  cigarros = (int(input(\"Em média quantos cigarros você fuma ao dia? \")))\n",
        "  return cigarros"
      ],
      "metadata": {
        "id": "FNJYuTyNvo6f"
      },
      "execution_count": null,
      "outputs": []
    },
    {
      "cell_type": "code",
      "source": [
        "#Lendo quantos anos ele já fumou\n",
        "def anosFumando():\n",
        "  anos = (int(input(\"Há quantos anos você já fuma?\" )))\n",
        "  return anos"
      ],
      "metadata": {
        "id": "xDSV0Akqwbh4"
      },
      "execution_count": null,
      "outputs": []
    },
    {
      "cell_type": "code",
      "source": [
        "# Calculando a redução em minutos\n",
        "def reducaoEmMinutos(cigarrosDia, anosFumando):\n",
        "  return 365 * anosFumando * (cigarrosDia * 10)"
      ],
      "metadata": {
        "id": "8n2ilZgmxTw3"
      },
      "execution_count": null,
      "outputs": []
    },
    {
      "cell_type": "code",
      "source": [
        "#Calculando a redução em dias\n",
        "def reducaoEmDias(reducaoEmMinutos):\n",
        "  return reducaoEmMinutos / (24*60)"
      ],
      "metadata": {
        "id": "336FMHqkFTcS"
      },
      "execution_count": null,
      "outputs": []
    },
    {
      "cell_type": "code",
      "source": [
        "#Calculando a redução em anos\n",
        "def reducaoEmAnos(diasPerdidos):\n",
        "  return diasPerdidos / 365"
      ],
      "metadata": {
        "id": "sBxqhGpNyJ0Q"
      },
      "execution_count": null,
      "outputs": []
    },
    {
      "cell_type": "code",
      "source": [
        "cigarrosPorDia = cigarrosDia()\n",
        "anosFumando = anosFumando()\n",
        "reducaoEmMinutos = reducaoEmMinutos(cigarrosPorDia, anosFumando)\n",
        "reducaoEmDias = reducaoEmDias(reducaoEmMinutos)\n",
        "\n",
        "print(\"Dias de vida perdidos: %.2f\" % reducaoEmDias)\n",
        "print(\"Anos de vida perdidos: %.2f\" % reducaoEmAnos(reducaoEmDias))\n"
      ],
      "metadata": {
        "colab": {
          "base_uri": "https://localhost:8080/"
        },
        "id": "-BsJfgCoycsn",
        "outputId": "71b6fe93-6bb4-4ebc-ac22-4f4623bbf468"
      },
      "execution_count": null,
      "outputs": [
        {
          "output_type": "stream",
          "name": "stdout",
          "text": [
            "Em média quantos cigarros você fuma ao dia? 10\n",
            "Há quantos anos você já fuma?10\n",
            "Dias de vida perdidos: 253.47\n",
            "Anos de vida perdidos: 0.69\n"
          ]
        }
      ]
    },
    {
      "cell_type": "markdown",
      "source": [
        "Escreva um programa que pergunte o salário do funcionário e calcule o valor do aumento. Para salários superiores a R$ 1.250,00, calcule um aumento de 10%. Para os inferiores ou iguais, de 15%.\n",
        "\n",
        "Resposta:"
      ],
      "metadata": {
        "id": "80CD3G_KIqdC"
      }
    },
    {
      "cell_type": "code",
      "source": [],
      "metadata": {
        "id": "kWv8i5KfIsGV"
      },
      "execution_count": null,
      "outputs": []
    }
  ]
}